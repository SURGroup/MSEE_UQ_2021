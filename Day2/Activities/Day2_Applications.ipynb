{
 "cells": [
  {
   "cell_type": "markdown",
   "metadata": {
    "slideshow": {
     "slide_type": "slide"
    }
   },
   "source": [
    "# MSEE UQ short course:  The $\\texttt{UQpy}$ library\n",
    "\n",
    "Application of surrogate modeling using the $\\texttt{UQpy}$ module $\\texttt{Surrogates}$.\n",
    "\n",
    "Detailed instructions on how to use this module can be found in the $\\texttt{UQpy}$ documentation.\n",
    "\n",
    "https://uqpyproject.readthedocs.io/en/latest/surrogates_doc.html"
   ]
  },
  {
   "cell_type": "code",
   "execution_count": 1,
   "metadata": {},
   "outputs": [],
   "source": [
    "import numpy as np\n",
    "from model import boucwen"
   ]
  },
  {
   "cell_type": "markdown",
   "metadata": {},
   "source": [
    "# Exercise 1\n",
    "\n",
    "### Polynomial Chaos\n",
    "\n",
    "Build a PCE surrogate for 1-D Bouc-Wen $\\texttt{Python}$ model. In this case, randomness is assumed in the systems' parameter $r_{0}$ which is assumed to be uniformly distributed in the range [0.5, 3.5]. The response of interest is the maximum displacement $z(t)$ of the system."
   ]
  },
  {
   "cell_type": "markdown",
   "metadata": {},
   "source": [
    "### Step 1\n",
    "\n",
    "Create a distribution object for the random variable (see Day 1 activities)."
   ]
  },
  {
   "cell_type": "code",
   "execution_count": 2,
   "metadata": {},
   "outputs": [],
   "source": [
    "# Solution"
   ]
  },
  {
   "cell_type": "markdown",
   "metadata": {},
   "source": [
    "### Step 2\n",
    "\n",
    "Create a $\\texttt{MCS}$ object (see Day 1 activities):\n",
    "- generate 30 realizations of $r_0$ that will serve as our training input set.\n",
    "- generate 20 realizations of $r_0$ that will serve as our validation input set."
   ]
  },
  {
   "cell_type": "code",
   "execution_count": 3,
   "metadata": {},
   "outputs": [],
   "source": [
    "# Solution"
   ]
  },
  {
   "cell_type": "markdown",
   "metadata": {},
   "source": [
    "### Step 3\n",
    "\n",
    "Run the 1-D Bouc-Wen computational model using $\\texttt{RunModel}$ module of $\\texttt{UQpy}$ (see Day 1 activities):\n",
    "- for the training input set.\n",
    "- for the validation input set."
   ]
  },
  {
   "cell_type": "code",
   "execution_count": 4,
   "metadata": {},
   "outputs": [],
   "source": [
    "# Solution"
   ]
  },
  {
   "cell_type": "markdown",
   "metadata": {},
   "source": [
    "### Step 4\n",
    "\n",
    "Create the PCE surrogate to approximate the response function (i.e., maximum displacement $\\max(z(t))$ of the system. Compute the PCE coefficients using least square regression. Compute the validation error."
   ]
  },
  {
   "cell_type": "markdown",
   "metadata": {},
   "source": [
    "### Step 4.1:\n",
    "\n",
    "Import libraries  $\\texttt{PCE}$, $\\texttt{Polynomials}$ and $\\texttt{PolyChaosLstsq}$, from $\\texttt{UQpy.Surrogates}$ module.\n"
   ]
  },
  {
   "cell_type": "code",
   "execution_count": 5,
   "metadata": {},
   "outputs": [],
   "source": [
    "# Solution"
   ]
  },
  {
   "cell_type": "markdown",
   "metadata": {},
   "source": [
    "### Step 4.2:\n",
    "\n",
    "Define a polynomials' object using the $\\texttt{Polynomials}$ class. Provide as input to the class the distribution object of the random variable, and the maximum  PCE order p=1. Print the polynomials."
   ]
  },
  {
   "cell_type": "code",
   "execution_count": 6,
   "metadata": {},
   "outputs": [],
   "source": [
    "# Solution"
   ]
  },
  {
   "cell_type": "markdown",
   "metadata": {},
   "source": [
    "### Step 4.3:\n",
    "\n",
    "Define a least squares regression object using the $\\texttt{PolyChaosLstsq}$ class. Provide as input to the class the polynomials object you created in the previous step. "
   ]
  },
  {
   "cell_type": "code",
   "execution_count": 7,
   "metadata": {},
   "outputs": [],
   "source": [
    "# Solution"
   ]
  },
  {
   "cell_type": "markdown",
   "metadata": {},
   "source": [
    "### Step 4.4:\n",
    "\n",
    "Define a pce object using the $\\texttt{PCE}$ class. Provide as input method the regression object created in the previous step."
   ]
  },
  {
   "cell_type": "code",
   "execution_count": 8,
   "metadata": {},
   "outputs": [],
   "source": [
    "# Solution"
   ]
  },
  {
   "cell_type": "markdown",
   "metadata": {},
   "source": [
    "### Step 4.5:\n",
    "\n",
    "Calculate the coefficients using the $\\texttt{fit}$ method of the $\\texttt{PCE}$ object. Provide the training data set (input-output pairs)."
   ]
  },
  {
   "cell_type": "code",
   "execution_count": 9,
   "metadata": {},
   "outputs": [],
   "source": [
    "# Solution"
   ]
  },
  {
   "cell_type": "markdown",
   "metadata": {},
   "source": [
    "### Step 4.6:\n",
    "\n",
    "Predic the response for the validation input set using the $\\texttt{predict}$ method of the $\\texttt{PCE}$ object."
   ]
  },
  {
   "cell_type": "code",
   "execution_count": 10,
   "metadata": {},
   "outputs": [],
   "source": [
    "# Solution"
   ]
  },
  {
   "cell_type": "markdown",
   "metadata": {},
   "source": [
    "### Step 4.7:\n",
    "\n",
    "Compute the validation error:\n",
    "- Import the $\\texttt{ErrorEstimation}$ class from $\\texttt{UQpy.Surrogates}$ module.\n",
    "- Compute the validation error using the $\\texttt{validation}$ method."
   ]
  },
  {
   "cell_type": "code",
   "execution_count": 11,
   "metadata": {},
   "outputs": [],
   "source": [
    "# Solution"
   ]
  },
  {
   "cell_type": "markdown",
   "metadata": {},
   "source": [
    "### Activities\n",
    "\n",
    "1. Build the PCE surrogate for the 1-D Bouc-Wen model for:\n",
    "    - For 100 training data.\n",
    "    - maximum PCE order p=4.\n",
    "    - Ridge regression methods.\n",
    "    For this case, estimate the first two moments (mean and variance) of the PCE surrogate.\n",
    "    \n",
    "    \n",
    "2. Build a PCE surrogate for the 2-D contact sphere model. In this case, randomness is assumed in the systems' parameter $\\texttt{k}\\sim\\mathcal{N}(10^5, 2\\times 10^4)$ and $\\texttt{f0}\\sim \\mathcal{N}(0.01, 0.1)$. The response of interest is the maximum absolute value of the displacement field at the identation point."
   ]
  },
  {
   "cell_type": "markdown",
   "metadata": {
    "slideshow": {
     "slide_type": "slide"
    }
   },
   "source": [
    "# Exercise 2 \n",
    "\n",
    "\n",
    "### Kriging (Gaussian process)\n",
    "\n",
    "\n",
    "Build a Kriging surrogate for 1-D contact sphere model. In the indentation test model randomness is assumed in the parameter $k$ which is assumed to follow a Lognormal distribution, with the parameters of the underlying Gaussian distribution being: $\\mu$ = 1e5 and standard deviation $\\sigma=2e4$. The parameters of the lognormal distribution in this case are $s=0.19804$ and $scale=98058.0675$ ($loc$=0.0). Build a Kriging surrogate to approximate the response function of the maximum displacement at the identation point. "
   ]
  },
  {
   "cell_type": "markdown",
   "metadata": {},
   "source": [
    "### Step 1\n",
    "\n",
    "Create a distribution object for the random variable (see Day 1 activities)."
   ]
  },
  {
   "cell_type": "code",
   "execution_count": 12,
   "metadata": {},
   "outputs": [],
   "source": [
    "# Solution"
   ]
  },
  {
   "cell_type": "markdown",
   "metadata": {},
   "source": [
    "### Step 2\n",
    "\n",
    "Create a $\\texttt{LHS}$ object (see Day 1 activities):\n",
    "- generate 20 realizations of $r_0$ that will serve as our training input set.\n",
    "- generate 30 realizations of $r_0$ that will serve as our validation input set."
   ]
  },
  {
   "cell_type": "code",
   "execution_count": 13,
   "metadata": {},
   "outputs": [],
   "source": [
    "# Solution"
   ]
  },
  {
   "cell_type": "markdown",
   "metadata": {},
   "source": [
    "### Step 3\n",
    "\n",
    "Run the 1-D contact sphere model using $\\texttt{RunModel}$ module of $\\texttt{UQpy}$ (see Day 1 activities):\n",
    "- for the training input set.\n",
    "- for the validation input set."
   ]
  },
  {
   "cell_type": "code",
   "execution_count": 14,
   "metadata": {},
   "outputs": [],
   "source": [
    "# Solution"
   ]
  },
  {
   "cell_type": "markdown",
   "metadata": {},
   "source": [
    "### Step 4\n",
    "\n",
    "Create the Kriging surrogate to approximate the response function (i.e., maximum displacement at the identation point). "
   ]
  },
  {
   "cell_type": "markdown",
   "metadata": {},
   "source": [
    "### Step 4.1:\n",
    "\n",
    "Import library  $\\texttt{Kriging}$ from $\\texttt{UQpy.Surrogates}$ module."
   ]
  },
  {
   "cell_type": "code",
   "execution_count": 15,
   "metadata": {},
   "outputs": [],
   "source": [
    "# Solution"
   ]
  },
  {
   "cell_type": "markdown",
   "metadata": {},
   "source": [
    "### Step 4.2:\n",
    "\n",
    "Instantiate a $\\texttt{Kriging}$ object. Select:\n",
    "\n",
    "1. Linear regression model to evaluate the basis functions and their coefficients.\n",
    "2. Gaussian correlation model to define similarity between samples.\n",
    "3. 20 times the Maximum Likelihood optimization problem to be solved with a random starting point."
   ]
  },
  {
   "cell_type": "code",
   "execution_count": 16,
   "metadata": {},
   "outputs": [],
   "source": [
    "# Solution"
   ]
  },
  {
   "cell_type": "markdown",
   "metadata": {},
   "source": [
    "### Step 4.3:\n",
    "\n",
    "Calculate the hyperparameters using the $\\texttt{fit}$ method of the $\\texttt{Kriging}$ object. Provide the training data set (input-output pairs). Print the regression coefficients."
   ]
  },
  {
   "cell_type": "code",
   "execution_count": 17,
   "metadata": {},
   "outputs": [],
   "source": [
    "# Solution"
   ]
  },
  {
   "cell_type": "markdown",
   "metadata": {},
   "source": [
    "### Step 4.4:\n",
    "\n",
    "Predic the response for the validation input set using the $\\texttt{predict}$ method of the $\\texttt{Kriging}$ object. Print the variance of the Kriging prediction."
   ]
  },
  {
   "cell_type": "code",
   "execution_count": 18,
   "metadata": {},
   "outputs": [],
   "source": [
    "# Solution"
   ]
  },
  {
   "cell_type": "markdown",
   "metadata": {},
   "source": [
    "## Activities\n",
    "\n",
    "1. Build the Kriging surrogate for the 1-D contact sphere model for:\n",
    "    - For 100 training data.\n",
    "    - Quadratic regression model\n",
    "    - Exponential correlation function\n",
    "    Compare the results.\n",
    "\n",
    "2. Build a Kriging surrogate for 1-D Boucwen model (Exercise 1). In this case,  $r_{0}\\sim \\mathcal{U}(0.5, 3.5)$. Compare the results obtained with the PCE surrogate."
   ]
  },
  {
   "cell_type": "code",
   "execution_count": 19,
   "metadata": {},
   "outputs": [],
   "source": [
    "# Solution"
   ]
  }
 ],
 "metadata": {
  "celltoolbar": "Slideshow",
  "kernelspec": {
   "display_name": "Python 3",
   "language": "python",
   "name": "python3"
  },
  "language_info": {
   "codemirror_mode": {
    "name": "ipython",
    "version": 3
   },
   "file_extension": ".py",
   "mimetype": "text/x-python",
   "name": "python",
   "nbconvert_exporter": "python",
   "pygments_lexer": "ipython3",
   "version": "3.8.5"
  }
 },
 "nbformat": 4,
 "nbformat_minor": 5
}
