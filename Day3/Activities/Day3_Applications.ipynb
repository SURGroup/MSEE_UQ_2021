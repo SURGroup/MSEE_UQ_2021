{
 "cells": [
  {
   "cell_type": "markdown",
   "metadata": {
    "slideshow": {
     "slide_type": "slide"
    }
   },
   "source": [
    "# MSEE UQ short course:  The $\\texttt{UQpy}$ library\n",
    "\n",
    "Application of Inference using the $\\texttt{UQpy}$ module $\\texttt{Inference}$. \n",
    "\n",
    "Detailed instructions on how to use this module can be found in the $\\texttt{UQpy}$ documentation.\n",
    "\n",
    "https://uqpyproject.readthedocs.io/en/latest/inference_doc.html"
   ]
  },
  {
   "cell_type": "code",
   "execution_count": 1,
   "metadata": {},
   "outputs": [],
   "source": [
    "import numpy as np"
   ]
  },
  {
   "cell_type": "markdown",
   "metadata": {},
   "source": [
    "# Exercise 1 \n",
    "\n",
    "Use **information-theoretic** inference to select between regression models. Consider the simple model:\n",
    "\n",
    "$$y=m(\\theta) + \\epsilon$$\n",
    "\n",
    "where $m(\\cdot)$ is our numerical model that runs with $\\texttt{RunModel}$ and $\\epsilon$ is  noise. We have 50 synthetic measurements of $y$ using one of the following model:\n",
    "    \n",
    "1. $m_0(\\theta)=\\theta_{0} x$ (linear)\n",
    "2. $m_1(\\boldsymbol{\\theta})=\\theta_{0} x + \\theta_{1} x^{2}$ (quadratic)\n",
    "3. $m_2(\\boldsymbol{\\theta})=\\theta_{0} x + \\theta_{1} x^{2} + \\theta_{2} x^{3}$ (cubic)\n",
    "\n",
    "where $\\theta_i$, $i=0,1, 2$ are the parameters of the model. We have also added some Gaussian noise ($\\sim \\mathcal{N}(0, 1)$) in the measurements which is considered to be homogeneous. You are given the file $\\texttt{'data_ex1a.txt'}$ which contains the data. Select a statistical model from the set of three candidate models, given the data, using the $AIC_c$ information-theoretic criterion. You are provided with the file $\\texttt{pfn.py}$ that contains the three models, written in $\\texttt{Python}$."
   ]
  },
  {
   "cell_type": "markdown",
   "metadata": {},
   "source": [
    "### Step 1:\n",
    "\n",
    "Read the data from the file."
   ]
  },
  {
   "cell_type": "code",
   "execution_count": 2,
   "metadata": {},
   "outputs": [],
   "source": [
    "# Solution 1\n",
    "data_ex1a = np.loadtxt('data_ex1a.txt')"
   ]
  },
  {
   "cell_type": "markdown",
   "metadata": {},
   "source": [
    "### Step 2:\n",
    "\n",
    "Import the necessary libraries:\n",
    "\n",
    "1. From the $\\texttt{UQpy.Inference}$ module.\n",
    "- $\\texttt{InferenceModel}$\n",
    "- $\\texttt{InfoModelSelection}$\n",
    "\n",
    "2. From $\\texttt{UQpy.RunModel}$ module import $\\texttt{RunModel}$."
   ]
  },
  {
   "cell_type": "code",
   "execution_count": 3,
   "metadata": {},
   "outputs": [],
   "source": [
    "# Solution"
   ]
  },
  {
   "cell_type": "markdown",
   "metadata": {},
   "source": [
    "### Step 3:\n",
    "\n",
    "Create instances of the $\\texttt{RunModel}$ class for the three models."
   ]
  },
  {
   "cell_type": "code",
   "execution_count": 4,
   "metadata": {},
   "outputs": [],
   "source": [
    "# Solution"
   ]
  },
  {
   "cell_type": "markdown",
   "metadata": {},
   "source": [
    "### Step 4:\n",
    "\n",
    "Create instances of the $\\texttt{InferenceModel}$ class for the three models."
   ]
  },
  {
   "cell_type": "code",
   "execution_count": 5,
   "metadata": {},
   "outputs": [],
   "source": [
    "# Solution"
   ]
  },
  {
   "cell_type": "markdown",
   "metadata": {},
   "source": [
    "### Step 5\n",
    "\n",
    "Perform model selection. Create an instance of $\\texttt{InfoModelSelection}$ class, employs information-theoretic criteria for model selection, using the $AIC_c$ criterion. Use the **Nelder-Mead** minimization algorithm for Maximum likelihood estimation of all candidate models.\n",
    "\n",
    "\n",
    "For each model print its  probability to generate the measurements."
   ]
  },
  {
   "cell_type": "code",
   "execution_count": 6,
   "metadata": {},
   "outputs": [],
   "source": [
    "# Solution"
   ]
  },
  {
   "cell_type": "markdown",
   "metadata": {},
   "source": [
    "### Activities\n",
    "\n",
    "Use information-theoretic inference to select between probability models. In this case we consider the contact sphere model where randomness is assummed only in the parameter $\\texttt{k}$.You are provided with file $\\texttt{'data_ex1b.txt'}$ that contains synthetic measurements for the parameter.  Use model selection with $BIC$ criterion to identify the probability model that best describes the data. The set of candidate models consists of the following probability models: [normal, lognormal, uniform, chisquare, beta, Levy, inverse Gauss, exponential, Beta]."
   ]
  },
  {
   "cell_type": "code",
   "execution_count": 7,
   "metadata": {},
   "outputs": [],
   "source": [
    "# Solution\n",
    "data_ex1b = np.loadtxt('data_ex1b.txt')"
   ]
  },
  {
   "cell_type": "markdown",
   "metadata": {},
   "source": [
    "# Exercise 2 \n",
    "\n",
    "Use  **Bayesian model** selection to choose between regression models. Consider the problem of Exercise 1. In this case, each candidate model $m_i$ is given a prior probability $P(m_i) = 1/3$. For each model, our prior belief about its parameters $\\theta_i$ is that they are normally distributed as: \n",
    "- $m_0(\\theta)$: $\\theta_0\\sim\\mathcal{N}(0,10)$.\n",
    "- $m_1(\\boldsymbol{\\theta})$: $\\theta_0\\sim\\mathcal{N}(0,1)$, $\\theta_1\\sim\\mathcal{N}(0,1)$\n",
    "- $m_2(\\boldsymbol{\\theta})$:  $\\theta_0\\sim\\mathcal{N}(0,1)$, $\\theta_1\\sim\\mathcal{N}(0,2)$, $\\theta_2\\sim\\mathcal{N}(0,0.25)$"
   ]
  },
  {
   "cell_type": "markdown",
   "metadata": {},
   "source": [
    "### Step 1:\n",
    "\n",
    "Import the necessary libraries\n",
    "\n",
    "1. From the $\\texttt{UQpy.Inference}$ module import:\n",
    "- $\\texttt{MLEstimation}$\n",
    "- $\\texttt{BayesModelSelection}$ \n",
    "\n",
    "2. From the $\\texttt{UQpy.Distributions}$ module import:\n",
    "- $\\texttt{Normal}$\n",
    "- $\\texttt{JoinInd}$ "
   ]
  },
  {
   "cell_type": "code",
   "execution_count": 8,
   "metadata": {},
   "outputs": [],
   "source": [
    "# Solution"
   ]
  },
  {
   "cell_type": "markdown",
   "metadata": {},
   "source": [
    "### Step 2:\n",
    "\n",
    "Create instances of the $\\texttt{RunModel}$ class for the three models."
   ]
  },
  {
   "cell_type": "code",
   "execution_count": 9,
   "metadata": {},
   "outputs": [],
   "source": [
    "# Solution"
   ]
  },
  {
   "cell_type": "markdown",
   "metadata": {},
   "source": [
    "### Step 3\n",
    "\n",
    "For each model $m_i(\\boldsymbol{\\theta})$ create a joint distribution object for its parameters $\\boldsymbol{\\theta}$ that represents our prior belief."
   ]
  },
  {
   "cell_type": "code",
   "execution_count": 10,
   "metadata": {},
   "outputs": [],
   "source": [
    "# Solution"
   ]
  },
  {
   "cell_type": "markdown",
   "metadata": {},
   "source": [
    "### Step 4\n",
    "\n",
    "Create instances of the $\\texttt{InferenceModel}$ class for the three models. In this case, for each model model you should also provide the $\\texttt{error}$\\_$\\texttt{covariance}$ as $\\texttt{np.ones(50)}$ (Why?)."
   ]
  },
  {
   "cell_type": "code",
   "execution_count": 11,
   "metadata": {},
   "outputs": [],
   "source": [
    "# Solution"
   ]
  },
  {
   "cell_type": "markdown",
   "metadata": {},
   "source": [
    "### Step 5\n",
    "\n",
    "Create an instance of the $\\texttt{BayesModelSelection}$ class. To this end, you will need to utilize MCMC sampling methods:\n",
    "\n",
    "1. Import the necessary libraries. From the $\\texttt{UQpy.SampleMethods}$ module import $\\texttt{MH}$ or $\\texttt{MH}$ class. \n",
    "2. For each model, create a joint proposal distribution for its parameters $\\boldsymbol{\\theta}$, where  each marginal distribution is normally distributed. \n",
    "2. For each model, select to sample 2000 realizations of the parameters from their joint distribution.\n",
    "\n",
    "Print the posterior probability of each model."
   ]
  },
  {
   "cell_type": "code",
   "execution_count": 12,
   "metadata": {},
   "outputs": [],
   "source": [
    "# Solution"
   ]
  },
  {
   "cell_type": "markdown",
   "metadata": {},
   "source": [
    "### Activites\n",
    "\n",
    "Change the parameter of the MCMC sampling in order to see how the results change."
   ]
  },
  {
   "cell_type": "markdown",
   "metadata": {},
   "source": [
    "# Exercise 3 \n",
    "\n",
    "\n",
    "Learning the parameters of the quadratic model. Consider we have identified the quadratic model\n",
    "\n",
    "$$m_2(\\boldsymbol{\\theta})=\\theta_{0} x + \\theta_{1} x^{2}$$\n",
    "\n",
    "as the model that represents the data. Using the measurements, we want to learn the parameters $\\theta_{0}$ and $\\theta_{1}$ of the quadratic model."
   ]
  },
  {
   "cell_type": "code",
   "execution_count": 13,
   "metadata": {},
   "outputs": [],
   "source": [
    "# Solution\n",
    "data_ex1a = np.loadtxt('data_ex1a.txt')"
   ]
  },
  {
   "cell_type": "markdown",
   "metadata": {},
   "source": [
    "### Step 1:\n",
    "\n",
    "Import the necessary libraries.\n",
    "\n",
    "1. From the $\\texttt{UQpy.Inference}$ module import:\n",
    "- $\\texttt{BayesParameterEstimation}$\n",
    "\n",
    "2. From the $\\texttt{UQpy.Distributions}$ module import:\n",
    "- $\\texttt{Normal}$\n",
    "- $\\texttt{JoinInd}$ \n",
    "\n",
    "3. From $\\texttt{UQpy.RunModel}$ module import $\\texttt{RunModel}$."
   ]
  },
  {
   "cell_type": "code",
   "execution_count": 14,
   "metadata": {},
   "outputs": [],
   "source": [
    "# Solution"
   ]
  },
  {
   "cell_type": "markdown",
   "metadata": {},
   "source": [
    "### Step 2:\n",
    "\n",
    "Create instances of the $\\texttt{RunModel}$ class for the quadratic model."
   ]
  },
  {
   "cell_type": "code",
   "execution_count": 15,
   "metadata": {},
   "outputs": [],
   "source": [
    "# Solution"
   ]
  },
  {
   "cell_type": "markdown",
   "metadata": {},
   "source": [
    "### Step 3:\n",
    "\n",
    "Create a joint distribution object for its parameters $\\boldsymbol{\\theta}$ that represents our prior belief. Each marginal distribution is Normally distributed but, we don't provide any information about its parameters."
   ]
  },
  {
   "cell_type": "code",
   "execution_count": 16,
   "metadata": {},
   "outputs": [],
   "source": [
    "# Solution"
   ]
  },
  {
   "cell_type": "markdown",
   "metadata": {},
   "source": [
    "### Step 4:\n",
    "\n",
    "Create an instance of the $\\texttt{InferenceModel}$ class. "
   ]
  },
  {
   "cell_type": "code",
   "execution_count": 17,
   "metadata": {},
   "outputs": [],
   "source": [
    "# Solution"
   ]
  },
  {
   "cell_type": "markdown",
   "metadata": {},
   "source": [
    "### Step 5:\n",
    "\n",
    "Create a joint proposal distribution object for its parameters $\\boldsymbol{\\theta}$. Each marginal distribution is normally distributed, i.e., $\\theta_0 \\sim \\mathcal{N}(0.0, 0.1)$ and  $\\theta_1 \\sim \\mathcal{N}(0.0, 0.05)$."
   ]
  },
  {
   "cell_type": "code",
   "execution_count": 18,
   "metadata": {},
   "outputs": [],
   "source": [
    "# Solution"
   ]
  },
  {
   "cell_type": "markdown",
   "metadata": {},
   "source": [
    "### Step 6:\n",
    "\n",
    "Create an instance of the $\\texttt{BayesParameterEstimation}$ class.  Select as sampling algorithm the $\\texttt{MH}$ algorithm of the $\\texttt{MCMC}$ class.\n",
    "\n",
    "Print the posterior values of the two parameters that are stored in the $\\texttt{samples}$ attribute of the $\\texttt{BayesParameterEstimation}$ object."
   ]
  },
  {
   "cell_type": "code",
   "execution_count": 19,
   "metadata": {},
   "outputs": [],
   "source": [
    "# Solution"
   ]
  }
 ],
 "metadata": {
  "celltoolbar": "Slideshow",
  "kernelspec": {
   "display_name": "Python 3",
   "language": "python",
   "name": "python3"
  },
  "language_info": {
   "codemirror_mode": {
    "name": "ipython",
    "version": 3
   },
   "file_extension": ".py",
   "mimetype": "text/x-python",
   "name": "python",
   "nbconvert_exporter": "python",
   "pygments_lexer": "ipython3",
   "version": "3.8.5"
  }
 },
 "nbformat": 4,
 "nbformat_minor": 5
}
