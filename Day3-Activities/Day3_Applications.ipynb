{
 "cells": [
  {
   "cell_type": "markdown",
   "id": "aa8cde64",
   "metadata": {
    "slideshow": {
     "slide_type": "slide"
    }
   },
   "source": [
    "# MSEE UQ short course:  $\\texttt{UQpy}$\n",
    "\n",
    "Date: June 4, 2021\n",
    "\n",
    "Application of the $\\texttt{UQpy}$ module: $\\texttt{Inference}$. Detailed instructions on how to use this module can be found in the $\\texttt{UQpy}$ documentation.\n",
    "\n",
    "## Information-theoretic model selection\n",
    "https://uqpyproject.readthedocs.io/en/latest/inference_doc.html#infomodelselection\n",
    "\n",
    "\n",
    "## Bayesian model selection\n",
    "https://uqpyproject.readthedocs.io/en/latest/inference_doc.html#bayesmodelselection\n",
    "\n",
    "\n",
    "## Bayesian parameter estimation\n",
    "https://uqpyproject.readthedocs.io/en/latest/inference_doc.html#bayesparameterestimation"
   ]
  },
  {
   "cell_type": "markdown",
   "id": "c09e6c08",
   "metadata": {},
   "source": [
    "# Exercise 1 \n",
    "\n",
    "\n",
    "1. Selecting between regression models. Consider the simple model\n",
    "\n",
    "    $$y=f(\\theta) + \\epsilon$$\n",
    "\n",
    "    where f consists in running RunModel and $\\epsilon \\sim \\mathcal{N}(0, 1)$ is Gaussian noise. The three models considered are:\n",
    "    - $f(\\theta)=\\theta_{0} x$\n",
    "    - $f(\\theta)=\\theta_{0} x + \\theta_{1} x^{2}$\n",
    "    - $f(\\theta)=\\theta_{0} x + \\theta_{1} x^{2} + \\theta_{2} x^{3}$\n",
    "\n",
    "   where $\\theta$ are the parameters of each model. You are given the file 'data_ex1a.txt' which contains 50 synthetic measurements generated from one of these models and some added noise. The noise in this case is considered to be homogeneous   To select a statistical model from a set of three candidate models, given the data.  use the following approaches:\n",
    "   \n",
    "   - The information-theoretic criterion.\n",
    "   - Bayesian model selection with where each candidate model is given a prior probability $P(m_{j}) = 1/3$, to compute each model's quality. In this case, consider the following priors for the parameters: \n",
    "       - For the linear model: $\\mu =[0.0], \\sigma=[10.0]$.\n",
    "       - For the quadratic model: $\\mu =[0.0, 0.0], \\sigma=[1.0, 1.0]$.\n",
    "       - For the cubic model: $\\mu =[0.0, 0.0, 0.0], \\sigma=[1.0, 2.0, 0.25]$.\n",
    "       - The error covariance is an array of 1s' with size 50, i.e., [1.0, 1.0, ..., 1.0]."
   ]
  },
  {
   "cell_type": "code",
   "execution_count": null,
   "id": "f5c8888f",
   "metadata": {},
   "outputs": [],
   "source": [
    "# Solution 1\n",
    "data_ex1a = np.loadtxt('data_ex1a.txt')"
   ]
  },
  {
   "cell_type": "markdown",
   "id": "f328df03",
   "metadata": {},
   "source": [
    "# Exercise 2 \n",
    "\n",
    "\n",
    "Selecting between probability models. In this case we consider the contact sphere model where randomness is assummed only in the parameter $k$.You are provided with file 'data_ex1b.txt' that contains synthetic measurements for the parameter.  Use model selection with $AIC_c, BIC$ criterion to identify the probability model that bests describe the data. The set of candidate models consists of: [normal, lognormal, uniform, chisquare, beta, Levy, inverse Gauss, exponential, Beta]. "
   ]
  },
  {
   "cell_type": "code",
   "execution_count": null,
   "id": "de7a77d7",
   "metadata": {},
   "outputs": [],
   "source": [
    "# Solution 2\n",
    "data_ex1b = np.loadtxt('data_ex1b.txt')"
   ]
  },
  {
   "cell_type": "markdown",
   "id": "129a1488",
   "metadata": {},
   "source": [
    "# Exercise 3 \n",
    "\n",
    "\n",
    "1. Learning the parameters of the quadratic model. Consider the simple model\n",
    "\n",
    "    $$f(\\theta)=\\theta_{0} x + \\theta_{1} x^{2}$$\n",
    "\n",
    "    You are asked to use the measurements  in the  'data_ex1a.txt' to learn the parameters $\\theta_{0}$ and $\\theta_{1}$ of the quadratic model."
   ]
  },
  {
   "cell_type": "code",
   "execution_count": null,
   "id": "8697b96d",
   "metadata": {},
   "outputs": [],
   "source": [
    "# Solution\n",
    "data_ex1a = np.loadtxt('data_ex1a.txt')"
   ]
  }
 ],
 "metadata": {
  "celltoolbar": "Slideshow",
  "kernelspec": {
   "display_name": "Python 3",
   "language": "python",
   "name": "python3"
  },
  "language_info": {
   "codemirror_mode": {
    "name": "ipython",
    "version": 3
   },
   "file_extension": ".py",
   "mimetype": "text/x-python",
   "name": "python",
   "nbconvert_exporter": "python",
   "pygments_lexer": "ipython3",
   "version": "3.7.7"
  }
 },
 "nbformat": 4,
 "nbformat_minor": 5
}
