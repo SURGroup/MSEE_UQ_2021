{
 "cells": [
  {
   "cell_type": "markdown",
   "id": "418ea669",
   "metadata": {
    "slideshow": {
     "slide_type": "slide"
    }
   },
   "source": [
    "# MSEE UQ short course:  $\\texttt{UQpy}$\n",
    "\n",
    "Application of the $\\texttt{UQpy}$ modules: $\\texttt{RunModel}, \\texttt{Distributions}, \\texttt{SampleMethods}$. Instructions on how to use these modules can be found in the $\\texttt{UQpy}$ documentation."
   ]
  },
  {
   "cell_type": "markdown",
   "id": "9aea3f21",
   "metadata": {},
   "source": [
    "# Exercise 1 - $\\texttt{RunModel}$\n",
    "\n",
    "https://uqpyproject.readthedocs.io/en/latest/runmodel_doc.html\n",
    "\n",
    "### Linking a $\\texttt{Python}$ computational model with $\\texttt{UQpy}$\n",
    "\n",
    "The model consists in a highly nonlinear single degree of freedom system represented by a Bouc-Wen model of hysteresis:\n",
    "\n",
    "   \\begin{align*}\n",
    "    & m \\ddot{z}(t) + k r(t) = - \\ddot{u}(t) \\\\\n",
    "    & \\dot{r}(t) = \\dot{z} - \\beta \\vert\\dot{z}(t)\\vert \\vert r(t) \\vert^{2} r(t) - \\gamma \\dot{z}(t) \\vert r(t) \\vert^{3}\n",
    "   \\end{align*}\n",
    "\n",
    "where $\\ddot{u}(t)$ is the ground motion (scaled el-centro earthquake ground motion) exciting the system. The system is parameterized by 3 parameters, the stiffness $k$ and the parameters $r_{0}=\\sqrt[3]{\\frac{1}{\\beta-\\gamma}}, \\delta=\\frac{\\beta}{\\beta+\\gamma}$ of the Bouc-Wen model of hysteresis. Forward simulation of the problem is performed via a 4th-order Runge-Kutta method. \n",
    "    \n",
    "You are provided with the $\\texttt{boucwen}$ Python function in the script $\\texttt{model.py}$. This function runs the Bouc-Wen model of hysterisis for the nominal set of parameters ($k=1.0$, $r_{0}=2.5$, $\\delta=0.9$). It returns the corresponding maximum displacement $\\max(z(t))$ of the system.\n",
    "\n",
    "- Run the Bouc-Wen model using the $\\texttt{RunModel}$ module of $\\texttt{UQpy}$, for the set of parameters: $k=1.5$, $r_{0}=4.1$, $\\delta=0.75$. To this end, you need to complete function $\\texttt{boucwen_sdof}$ in the script $\\texttt{model.py}$ in order to use it with the $\\texttt{RunModel}$. The function should take one input argument (a ndarray of $\\texttt{shape}$=(n, 3)) that will contain the set of  parameters, and return a list with the corresponding response, i.e. [$\\max(z(t))$].\n",
    "\n",
    "\n",
    "This example makes use of the following file:\n",
    "- USACA47.035.txt contains a ground motion time series (El-Centro earthquake, downloaded from the Center for Engineering Strong Motion Data).\n",
    "\n",
    "\n",
    "### Linking a third-party software computational model with $\\texttt{UQpy}$\n",
    "\n",
    "\n",
    "The model consists of an identation test performed on a cuboid sample with the aid an elastic contact sphere. \n",
    "\n",
    "\n",
    "<img src=\"IndentationTest.png\" width=\"500\"> \n",
    "\n",
    "\n",
    "The example is adopted from  https://sfepy.org/doc-devel/examples/linear_elasticity/elastic_contact_sphere.html. The analysis is performed using the Python package $\\texttt{sfepy}$. Visualization is performed with Paraview. Even though the problem is composed by linear materials and described by small deformations, it is highly non-linear due to the contact boundary conditions between the sphere and the cube. The system is parameterized by the elastic sphere stiffness parameter $k$ for positive penetration and, force $f_0$ for zero penetration. The response of the model consists of the maximum absolute value of the displacement field at the identation point. \n",
    "\n",
    "\n",
    "You are provided with the $\\texttt{elastic_contact_sphere.py}$ script. This script runs the contact sphere model for the nominal values of the parameters $k=10^5$, $f_0=10^{-2}$. In order to run the model you need to type in the terminal \n",
    "\n",
    "-  $\\texttt{python simple.py elastic_contact_sphere.py}$ \n",
    "\n",
    "where $\\texttt{python simple.py}$ contains the $\\texttt{sfepy}$ solver that executes the indentation test.  Note that $\\texttt{elastic_contact_sphere.py}$ must be in the same directory with $\\texttt{simple.py}$. This will create the object $\\texttt{cube_medium_hexa.vtk}$ that contains the displacement field. In order to read this file you need to use the command:\n",
    "- $\\texttt{mesh = meshio.read('cube_medium_hexa.vtk')}$\n",
    "- $\\texttt{displacements=mesh.point_data['u']}$\n",
    "\n",
    "In order to find the  maximum absolute value of the displacement field from Python you will need the following commnands:\n",
    "\n",
    "- $\\texttt{import meshio}$\n",
    "- $\\texttt{max_displ=max(abs(displacements[:, 2])))}$\n",
    "\n",
    "\n",
    "\n",
    "- Run the elastic contact sphere model using the $\\texttt{RunModel}$ module of $\\texttt{UQpy}$, for the set of parameters: $k=9\\times 10 ^4$ and $f_0=5\\times 10 ^{-2}$. To this end, you need to\n",
    "\n",
    "\n",
    "1. Modify the $\\texttt{elastic_contact_sphere.py}$ to accept input arguments $k$ and $f0$.\n",
    "2. In the $\\texttt{PythonAsThirdParty_model.py}$ script, which contains the code that executes the Python $\\texttt{sfepy}$ model as a third-party party application, complete function $\\texttt{run_model}$.\n",
    "3. In the $\\texttt{process_3rd_party_output.py}$ script, that contains the code required to post-process the output generated from the execution of the $\\texttt{sfepy}$ model, complete function $\\texttt{run_model}$. "
   ]
  },
  {
   "cell_type": "markdown",
   "id": "7a88d02a",
   "metadata": {},
   "source": [
    "# Exercise 3 - Forward UQ \n",
    "\n",
    "In this exercise you have to propagate uncertainties through a Python and a third-party computational model. Realizations of the input uncertain parameters are obtained via Monte Carlo sampling and Latin Hypercube sampling.  \n",
    "\n",
    "\n",
    "## $\\texttt{Distributions}$\n",
    "https://uqpyproject.readthedocs.io/en/latest/distributions_doc.html#\n",
    "\n",
    "## $\\texttt{SampleMethods}$\n",
    "https://uqpyproject.readthedocs.io/en/latest/samplemethods_doc.html\n",
    "\n",
    "\n",
    "1. In the Bouc-Wen model, randomness is assumed in the systems' parameters [$k, r_{0}, \\delta$]. The parameters are considered to be independent with the following probability models:\n",
    "\n",
    "- Parameter $k$ is assumed to be uniformly distributed, i.e., $k \\sim \\mathcal{U}(0.5, 2.5)$. \n",
    "- Parameter $r_{0}$ is assumed to be normally distributed, i.e., $r_0 \\sim \\mathcal{N}(2.5, 0.01)$. \n",
    "- Parameter $\\delta$ is assumed to be lognormally distributed with underlying Gaussian distribution $\\mathcal{N}(0.9, 0.04)$, which corresponds to parameters $s=0.198$ and $scale=0.882$ ($loc$=0.0). \n",
    "\n",
    "\n",
    "- For each parameter, create a $\\texttt{Distributions}$ object with $\\texttt{UQpy}$. Plot the $\\texttt{pdf}$ and print the first four central moments, i.e., mean, standard deviation, skewness, kyrtosis.\n",
    "\n",
    "-  Generate 1000 realizations of the parameters using $\\texttt{MCS}$ class of $\\texttt{UQpy}$ and propagate them through the model to estimate the cooresponding maximum displacement $\\max(z(t))$ of the system. Plot the histogram of the response. \n",
    "  \n",
    "    \n",
    " 2. Propagate  input parameter uncertainties through the third-party computational contact sphere model. In the indentation test model, randomness is assumed in the systems' parameters [$k, f_0$]. The parameters are considered to be independent with the following probability models:\n",
    " \n",
    "- Parameter $f_0$ is assumed to be uniformly distributed, i.e., $k \\sim \\mathcal{U}(0.01, 0.1)$. \n",
    "- Parameter $k$ is assumed to be lognormally distributed with underlying Gaussian distribution $\\mathcal{N}(10^5, 2\\times 10^4)$, which corresponds to parameters $s=0.198$ and $scale=98058$ ($loc$=0.0). \n",
    "\n",
    "\n",
    "- For each parameter, create a $\\texttt{Distributions}$ object with $\\texttt{UQpy}$. Plot the $\\texttt{log_pdf}$ and print the first four central moments, i.e., mean, standard deviation, skewness, kyrtosis.\n",
    "\n",
    "-  Generate 1000 realizations of the parameters using $\\texttt{LHS}$ class of $\\texttt{UQpy}$ with $\\texttt{random}$ criterion, and propagate them through the model to estimate the cooresponding responses. Plot the histogram of the response. Repeat the calculations using different $\\texttt{LHS}$ criteria."
   ]
  },
  {
   "cell_type": "code",
   "execution_count": null,
   "id": "50cd629a",
   "metadata": {},
   "outputs": [],
   "source": [
    "#Solution"
   ]
  }
 ],
 "metadata": {
  "celltoolbar": "Slideshow",
  "kernelspec": {
   "display_name": "Python 3",
   "language": "python",
   "name": "python3"
  },
  "language_info": {
   "codemirror_mode": {
    "name": "ipython",
    "version": 3
   },
   "file_extension": ".py",
   "mimetype": "text/x-python",
   "name": "python",
   "nbconvert_exporter": "python",
   "pygments_lexer": "ipython3",
   "version": "3.7.7"
  }
 },
 "nbformat": 4,
 "nbformat_minor": 5
}
